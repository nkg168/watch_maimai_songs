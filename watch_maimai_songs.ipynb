{
 "cells": [
  {
   "cell_type": "markdown",
   "metadata": {},
   "source": [
    "# mai maiの収録曲をyotubeで検索してjupyterに埋め込むツール\n"
   ]
  },
  {
   "cell_type": "markdown",
   "metadata": {},
   "source": [
    "## seleniumのセットアップ"
   ]
  },
  {
   "cell_type": "code",
   "execution_count": null,
   "metadata": {},
   "outputs": [],
   "source": [
    "from selenium import webdriver\n",
    "options = webdriver.ChromeOptions()\n",
    "options.add_argument('--headless')\n",
    "driver = webdriver.Chrome(options=options)"
   ]
  },
  {
   "cell_type": "markdown",
   "metadata": {},
   "source": [
    "## maimaiの楽曲リストを取得"
   ]
  },
  {
   "cell_type": "code",
   "execution_count": null,
   "metadata": {},
   "outputs": [],
   "source": [
    "driver.get('https://maimai.sega.jp/song/niconico/')"
   ]
  },
  {
   "cell_type": "markdown",
   "metadata": {},
   "source": [
    "## 楽曲をリスト化し、チェックボックスを付与"
   ]
  },
  {
   "cell_type": "code",
   "execution_count": null,
   "metadata": {},
   "outputs": [],
   "source": [
    "import ipywidgets as widgets\n",
    "songs = {el.text:widgets.Checkbox(\n",
    "    value=False,\n",
    "    description=el.text,\n",
    "    disabled=False\n",
    ") for el in driver.find_elements_by_class_name('titleText')}\n",
    "\n",
    "_ = [display(w) for w in songs.values()]"
   ]
  },
  {
   "cell_type": "markdown",
   "metadata": {},
   "source": [
    "## チェックされた曲を検索対象とする"
   ]
  },
  {
   "cell_type": "code",
   "execution_count": null,
   "metadata": {},
   "outputs": [],
   "source": [
    "songs_search = [song for song,w in songs.items() if w.value]\n",
    "print('search for',songs_search)"
   ]
  },
  {
   "cell_type": "markdown",
   "metadata": {},
   "source": [
    "## youtubeのapiで検索し、videoIdのリストを返却する関数\n",
    "DEVELOPER_KEYは各自用意したもので置き換え\n",
    "### 参考\n",
    "- apiの[pythonクライアント](https://developers.google.com/api-client-library/python/?hl=ja)\n",
    "- 検索パラメータの[公式リファレンス](https://developers.google.com/youtube/v3/?hl=ja)\n"
   ]
  },
  {
   "cell_type": "code",
   "execution_count": null,
   "metadata": {},
   "outputs": [],
   "source": [
    "from apiclient.discovery import build\n",
    "from apiclient.errors import HttpError\n",
    "\n",
    "DEVELOPER_KEY = \"REPLACE_ME\"\n",
    "YOUTUBE_API_SERVICE_NAME = \"youtube\"\n",
    "YOUTUBE_API_VERSION = \"v3\"\n",
    "\n",
    "def youtube_search(term, count=1):\n",
    "  youtube = build(YOUTUBE_API_SERVICE_NAME, YOUTUBE_API_VERSION,\n",
    "    developerKey=DEVELOPER_KEY)\n",
    "\n",
    "  search_response = youtube.search().list(\n",
    "    q=term,\n",
    "    part=\"id\",\n",
    "    type=\"video\",\n",
    "    maxResults=count\n",
    "  ).execute()\n",
    "\n",
    "  return [item['id']['videoId'] for item in search_response.get(\"items\", [])]"
   ]
  },
  {
   "cell_type": "markdown",
   "metadata": {},
   "source": [
    "## notebookに埋め込むHTMLを作成する関数\n",
    "`_repr_html_`関数はプライベートメソッドなのでアレかもです。コード読んでたら見つけました。  \n",
    "あるいは(横に並べたいので)`<iframe></iframe><iframe></iframe>...`って書いてく感じになるかと。"
   ]
  },
  {
   "cell_type": "code",
   "execution_count": null,
   "metadata": {},
   "outputs": [],
   "source": [
    "from IPython.display import YouTubeVideo,HTML\n",
    "# 内部で呼ばれてる_repr_html_でhtmlを取り出して加工\n",
    "def html_youtube(title,video_ids):\n",
    "    return HTML(''.join([\n",
    "    f'<h2>{title}</h2>'\n",
    "    ,*[YouTubeVideo(f'{id}')._repr_html_() for id in video_ids]\n",
    "    ]\n",
    "    ))"
   ]
  },
  {
   "cell_type": "code",
   "execution_count": null,
   "metadata": {},
   "outputs": [],
   "source": [
    "w_count = widgets.Dropdown(\n",
    "    options=['1', '2', '3'],\n",
    "    value='2',\n",
    "    description='検索数:',\n",
    "    disabled=False,\n",
    ")\n",
    "display(w_count)"
   ]
  },
  {
   "cell_type": "markdown",
   "metadata": {},
   "source": [
    "## youtube埋め込み"
   ]
  },
  {
   "cell_type": "code",
   "execution_count": null,
   "metadata": {},
   "outputs": [],
   "source": [
    "songs_youtube = [{'title':song,'video_ids':youtube_search(song,w_count.value)} for song in songs_search]\n",
    "_ = [display(html_youtube(**song)) for song in songs_youtube]"
   ]
  }
 ],
 "metadata": {
  "kernelspec": {
   "display_name": "Python 3",
   "language": "python",
   "name": "python3"
  },
  "language_info": {
   "codemirror_mode": {
    "name": "ipython",
    "version": 3
   },
   "file_extension": ".py",
   "mimetype": "text/x-python",
   "name": "python",
   "nbconvert_exporter": "python",
   "pygments_lexer": "ipython3",
   "version": "3.7.0"
  }
 },
 "nbformat": 4,
 "nbformat_minor": 2
}
